{
 "cells": [
  {
   "cell_type": "markdown",
   "id": "f95d94fc-9ee4-4b72-b41f-1594d2755bc9",
   "metadata": {},
   "source": [
    "# Automatic File Sorter"
   ]
  },
  {
   "cell_type": "code",
   "execution_count": 110,
   "id": "fb38f34d-cea8-4f25-bb5e-e2d1e3997699",
   "metadata": {},
   "outputs": [],
   "source": [
    "import os, shutil"
   ]
  },
  {
   "cell_type": "code",
   "execution_count": 112,
   "id": "843e8563-d172-453d-921d-72ba397f8bab",
   "metadata": {},
   "outputs": [],
   "source": [
    "path = r\"C:/Users/User.SHAWONALAM/OneDrive/Documents/dummy folder/\""
   ]
  },
  {
   "cell_type": "markdown",
   "id": "2e831e38-424d-4159-b802-087c65284e05",
   "metadata": {},
   "source": [
    "### Checing how many file types in the directory"
   ]
  },
  {
   "cell_type": "code",
   "execution_count": 115,
   "id": "737448b0-220b-46fe-ac9a-c7d9d5b5a5ae",
   "metadata": {},
   "outputs": [],
   "source": [
    "file_name = os.listdir(path)"
   ]
  },
  {
   "cell_type": "markdown",
   "id": "aefb7c14-cf0e-4e94-8aa8-f09f89007c90",
   "metadata": {},
   "source": [
    "### Making folders in the directory"
   ]
  },
  {
   "cell_type": "code",
   "execution_count": 118,
   "id": "ae43aabb-d190-4946-95bd-737ed10b1771",
   "metadata": {},
   "outputs": [],
   "source": [
    "folder_names = ['csv files', 'image files','docs files','pdf files']\n",
    "for i in range (0,len(folder_names)):\n",
    "    if not os.path.exists(path + folder_names[i]): \n",
    "        print(path + folder_names[i])\n",
    "        os.makedirs(path + folder_names[i])"
   ]
  },
  {
   "cell_type": "markdown",
   "id": "531ab53f-8f0a-43c0-b28d-e331da6ea601",
   "metadata": {},
   "source": [
    "### Moving files in the folders "
   ]
  },
  {
   "cell_type": "code",
   "execution_count": 121,
   "id": "26bfe1e6-99e0-4bdc-996c-2f84304894b9",
   "metadata": {},
   "outputs": [
    {
     "name": "stdout",
     "output_type": "stream",
     "text": [
      "Sill files exits in that directory\n"
     ]
    }
   ],
   "source": [
    "for j in file_name:\n",
    "    if \".csv\" in j and not os.path.exists(path + \"csv files/\" + j):\n",
    "        print(j)\n",
    "        shutil.move(path + j, path + \"csv files/\" + j)\n",
    "    elif \".jpg\" in j and not os.path.exists(path + \"image files/\" + j):\n",
    "        print(j)\n",
    "        shutil.move(path + j, path + \"image files/\" + j)\n",
    "    elif \".pdf\" in j and not os.path.exists(path + \"pdf files/\" + j):\n",
    "        print(j)\n",
    "        shutil.move(path + j, path + \"pdf files/\" + j)\n",
    "    elif \".docx\" in j and not os.path.exists(path + \"docs files/\" + j):\n",
    "        print(j)\n",
    "        shutil.move(path + j, path + \"docs files/\" + j)\n",
    "    else:\n",
    "        print(\"Sill files exits in that directory\")\n",
    "        break"
   ]
  },
  {
   "cell_type": "code",
   "execution_count": null,
   "id": "f14006c1-8b37-4fa4-b002-7e4e7c756b85",
   "metadata": {},
   "outputs": [],
   "source": []
  },
  {
   "cell_type": "code",
   "execution_count": null,
   "id": "32f7c725-53ae-466c-8549-74ef625f0537",
   "metadata": {},
   "outputs": [],
   "source": []
  }
 ],
 "metadata": {
  "kernelspec": {
   "display_name": "Python 3 (ipykernel)",
   "language": "python",
   "name": "python3"
  },
  "language_info": {
   "codemirror_mode": {
    "name": "ipython",
    "version": 3
   },
   "file_extension": ".py",
   "mimetype": "text/x-python",
   "name": "python",
   "nbconvert_exporter": "python",
   "pygments_lexer": "ipython3",
   "version": "3.12.4"
  }
 },
 "nbformat": 4,
 "nbformat_minor": 5
}
